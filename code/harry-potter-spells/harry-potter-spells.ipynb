{
 "cells": [
  {
   "cell_type": "markdown",
   "metadata": {},
   "source": [
    "# Counting spells in Harry Potter books\n",
    "I want to discover two things.\n",
    "- Which book is the most spell intensive?\n",
    "- What is the most common spell in each of the Harry Potter books?"
   ]
  },
  {
   "cell_type": "code",
   "execution_count": 11,
   "metadata": {
    "collapsed": true
   },
   "outputs": [],
   "source": [
    "import pandas as pd\n",
    "import glob\n",
    "from sklearn.feature_extraction.text import TfidfVectorizer\n",
    "from sklearn.feature_extraction.text import CountVectorizer\n",
    "%matplotlib inline"
   ]
  },
  {
   "cell_type": "markdown",
   "metadata": {},
   "source": [
    "### Files\n",
    "I am working with two datasets:\n",
    "- The seven Harry Potter books in .txt format\n",
    "- A list of spells in .csv format"
   ]
  },
  {
   "cell_type": "code",
   "execution_count": 12,
   "metadata": {
    "collapsed": true
   },
   "outputs": [],
   "source": [
    "# Reading in the list of books\n",
    "books = glob.glob(r'.\\books\\*.txt')"
   ]
  },
  {
   "cell_type": "code",
   "execution_count": 13,
   "metadata": {
    "collapsed": false
   },
   "outputs": [
    {
     "data": {
      "text/html": [
       "<div>\n",
       "<table border=\"1\" class=\"dataframe\">\n",
       "  <thead>\n",
       "    <tr style=\"text-align: right;\">\n",
       "      <th></th>\n",
       "      <th>body</th>\n",
       "      <th>book</th>\n",
       "    </tr>\n",
       "  </thead>\n",
       "  <tbody>\n",
       "    <tr>\n",
       "      <th>0</th>\n",
       "      <td>/ \\n\\n\\n\\n\\nTHE BOY WHO LIVED \\n\\nMr. and Mrs....</td>\n",
       "      <td>.\\books\\Book 1 - The Philosopher's Stone_djvu.txt</td>\n",
       "    </tr>\n",
       "    <tr>\n",
       "      <th>1</th>\n",
       "      <td>\\nJ . K . R O W L ! N G \\n\\nHARRY \\n\\nPOTTER \\...</td>\n",
       "      <td>.\\books\\Book 2 - The Chamber of Secrets_djvu.txt</td>\n",
       "    </tr>\n",
       "    <tr>\n",
       "      <th>2</th>\n",
       "      <td>/ \\n\\n\\n\\n\\nOWL POST \\n\\nHarry Potter was a hi...</td>\n",
       "      <td>.\\books\\Book 3 - The Prisoner of Azkaban_djvu.txt</td>\n",
       "    </tr>\n",
       "    <tr>\n",
       "      <th>3</th>\n",
       "      <td>/ \\n\\n\\n\\n\\nTHE RIDDLE HOUSE \\n\\nThe villagers...</td>\n",
       "      <td>.\\books\\Book 4 - The Goblet of Fire_djvu.txt</td>\n",
       "    </tr>\n",
       "    <tr>\n",
       "      <th>4</th>\n",
       "      <td>HARRY \\n\\nPOTTER \\n\\n\\n\\n\\nI \\n\\n\\n\\n\\nDUDLEY ...</td>\n",
       "      <td>.\\books\\Book 5 - The Order of the Phoenix_djvu...</td>\n",
       "    </tr>\n",
       "  </tbody>\n",
       "</table>\n",
       "</div>"
      ],
      "text/plain": [
       "                                                body  \\\n",
       "0  / \\n\\n\\n\\n\\nTHE BOY WHO LIVED \\n\\nMr. and Mrs....   \n",
       "1  \\nJ . K . R O W L ! N G \\n\\nHARRY \\n\\nPOTTER \\...   \n",
       "2  / \\n\\n\\n\\n\\nOWL POST \\n\\nHarry Potter was a hi...   \n",
       "3  / \\n\\n\\n\\n\\nTHE RIDDLE HOUSE \\n\\nThe villagers...   \n",
       "4  HARRY \\n\\nPOTTER \\n\\n\\n\\n\\nI \\n\\n\\n\\n\\nDUDLEY ...   \n",
       "\n",
       "                                                book  \n",
       "0  .\\books\\Book 1 - The Philosopher's Stone_djvu.txt  \n",
       "1   .\\books\\Book 2 - The Chamber of Secrets_djvu.txt  \n",
       "2  .\\books\\Book 3 - The Prisoner of Azkaban_djvu.txt  \n",
       "3       .\\books\\Book 4 - The Goblet of Fire_djvu.txt  \n",
       "4  .\\books\\Book 5 - The Order of the Phoenix_djvu...  "
      ]
     },
     "execution_count": 13,
     "metadata": {},
     "output_type": "execute_result"
    }
   ],
   "source": [
    "# Putting the books into a dataframe\n",
    "contents = [open(book,encoding='Latin5').read() for book in books]\n",
    "books_df = pd.DataFrame({\n",
    "    'book': books,\n",
    "    'body': contents,\n",
    "})\n",
    "books_df.head()"
   ]
  },
  {
   "cell_type": "code",
   "execution_count": 15,
   "metadata": {
    "collapsed": false
   },
   "outputs": [],
   "source": [
    "# Reading in the list of spells\n",
    "spells = pd.read_csv('spells.csv')['spell'].tolist()"
   ]
  },
  {
   "cell_type": "markdown",
   "metadata": {},
   "source": [
    "### 1. What is the most spell-intensive book?\n",
    "I'll use the vectorizers to count how many spells, in percentage of all the words, are in each book"
   ]
  },
  {
   "cell_type": "code",
   "execution_count": 16,
   "metadata": {
    "collapsed": false
   },
   "outputs": [
    {
     "data": {
      "text/plain": [
       "<7x23930 sparse matrix of type '<class 'numpy.float64'>'\n",
       "\twith 70133 stored elements in Compressed Sparse Row format>"
      ]
     },
     "execution_count": 16,
     "metadata": {},
     "output_type": "execute_result"
    }
   ],
   "source": [
    "# This counts ALL the words\n",
    "vectorizer = TfidfVectorizer(use_idf=False, norm='l1')\n",
    "matrix = vectorizer.fit_transform(books_df['body'])\n",
    "matrix"
   ]
  },
  {
   "cell_type": "code",
   "execution_count": 17,
   "metadata": {
    "collapsed": false
   },
   "outputs": [
    {
     "data": {
      "text/html": [
       "<div>\n",
       "<table border=\"1\" class=\"dataframe\">\n",
       "  <thead>\n",
       "    <tr style=\"text-align: right;\">\n",
       "      <th></th>\n",
       "      <th>01</th>\n",
       "      <th>10</th>\n",
       "      <th>100</th>\n",
       "      <th>1002harry</th>\n",
       "      <th>1003harry</th>\n",
       "      <th>1004harry</th>\n",
       "      <th>1005harry</th>\n",
       "      <th>1006harry</th>\n",
       "      <th>1007harry</th>\n",
       "      <th>1008harry</th>\n",
       "      <th>...</th>\n",
       "      <th>zograf</th>\n",
       "      <th>zombie</th>\n",
       "      <th>zone</th>\n",
       "      <th>zonko</th>\n",
       "      <th>zonkoâ</th>\n",
       "      <th>zoo</th>\n",
       "      <th>zoological</th>\n",
       "      <th>zoom</th>\n",
       "      <th>zoomed</th>\n",
       "      <th>zooming</th>\n",
       "    </tr>\n",
       "  </thead>\n",
       "  <tbody>\n",
       "    <tr>\n",
       "      <th>0</th>\n",
       "      <td>0.0</td>\n",
       "      <td>0.000025</td>\n",
       "      <td>0.000013</td>\n",
       "      <td>0.0</td>\n",
       "      <td>0.0</td>\n",
       "      <td>0.0</td>\n",
       "      <td>0.0</td>\n",
       "      <td>0.0</td>\n",
       "      <td>0.0</td>\n",
       "      <td>0.0</td>\n",
       "      <td>...</td>\n",
       "      <td>0.0</td>\n",
       "      <td>0.000025</td>\n",
       "      <td>0.0</td>\n",
       "      <td>0.0</td>\n",
       "      <td>0.0</td>\n",
       "      <td>0.000089</td>\n",
       "      <td>0.0</td>\n",
       "      <td>0.000013</td>\n",
       "      <td>0.000013</td>\n",
       "      <td>0.000025</td>\n",
       "    </tr>\n",
       "  </tbody>\n",
       "</table>\n",
       "<p>1 rows × 23930 columns</p>\n",
       "</div>"
      ],
      "text/plain": [
       "    01        10       100  1002harry  1003harry  1004harry  1005harry  \\\n",
       "0  0.0  0.000025  0.000013        0.0        0.0        0.0        0.0   \n",
       "\n",
       "   1006harry  1007harry  1008harry    ...     zograf    zombie  zone  zonko  \\\n",
       "0        0.0        0.0        0.0    ...        0.0  0.000025   0.0    0.0   \n",
       "\n",
       "   zonkoâ       zoo  zoological      zoom    zoomed   zooming  \n",
       "0     0.0  0.000089         0.0  0.000013  0.000013  0.000025  \n",
       "\n",
       "[1 rows x 23930 columns]"
      ]
     },
     "execution_count": 17,
     "metadata": {},
     "output_type": "execute_result"
    }
   ],
   "source": [
    "# And this creates a grid out of it.\n",
    "# NOTE: the (number)harry words came from page enumeration strings.\n",
    "results = pd.DataFrame(matrix.toarray(), columns=vectorizer.get_feature_names())\n",
    "results.head(1)"
   ]
  },
  {
   "cell_type": "code",
   "execution_count": 20,
   "metadata": {
    "collapsed": false
   },
   "outputs": [],
   "source": [
    "# But I want to look ONLY at the spells.\n",
    "# This recquires some handling, though. I want to look just at the spells that appear in the books - there are some more in the list.\n",
    "# Also, if a spell is composed of more than two words, I'll look just at the first one. e.g 'Avada Kedavra' will be AVADA.\n",
    "spells = [spell.split()[0] for spell in spells]"
   ]
  },
  {
   "cell_type": "code",
   "execution_count": 21,
   "metadata": {
    "collapsed": false
   },
   "outputs": [
    {
     "data": {
      "text/html": [
       "<div>\n",
       "<table border=\"1\" class=\"dataframe\">\n",
       "  <thead>\n",
       "    <tr style=\"text-align: right;\">\n",
       "      <th></th>\n",
       "      <th>spell</th>\n",
       "    </tr>\n",
       "  </thead>\n",
       "  <tbody>\n",
       "    <tr>\n",
       "      <th>0</th>\n",
       "      <td>Accio</td>\n",
       "    </tr>\n",
       "    <tr>\n",
       "      <th>1</th>\n",
       "      <td>Aguamenti</td>\n",
       "    </tr>\n",
       "    <tr>\n",
       "      <th>2</th>\n",
       "      <td>Alohomora</td>\n",
       "    </tr>\n",
       "    <tr>\n",
       "      <th>3</th>\n",
       "      <td>Aparecium</td>\n",
       "    </tr>\n",
       "    <tr>\n",
       "      <th>4</th>\n",
       "      <td>Avada</td>\n",
       "    </tr>\n",
       "  </tbody>\n",
       "</table>\n",
       "</div>"
      ],
      "text/plain": [
       "       spell\n",
       "0      Accio\n",
       "1  Aguamenti\n",
       "2  Alohomora\n",
       "3  Aparecium\n",
       "4      Avada"
      ]
     },
     "execution_count": 21,
     "metadata": {},
     "output_type": "execute_result"
    }
   ],
   "source": [
    "# Make the list into a dataframe so I can filter only the spells that appear in the book\n",
    "spells_df = pd.DataFrame({\n",
    "    'spell': spells,\n",
    "})\n",
    "spells_df.head()"
   ]
  },
  {
   "cell_type": "code",
   "execution_count": 43,
   "metadata": {
    "collapsed": false
   },
   "outputs": [],
   "source": [
    "# Keeping only the spells that appear in the book - and in the books_df headers, this way\n",
    "spells_df = spells_df[spells_df['spell'].str.lower().isin(list(results.columns.values))]"
   ]
  },
  {
   "cell_type": "code",
   "execution_count": 44,
   "metadata": {
    "collapsed": false
   },
   "outputs": [
    {
     "name": "stderr",
     "output_type": "stream",
     "text": [
      "C:\\Anaconda3\\lib\\site-packages\\ipykernel\\__main__.py:1: SettingWithCopyWarning: \n",
      "A value is trying to be set on a copy of a slice from a DataFrame.\n",
      "Try using .loc[row_indexer,col_indexer] = value instead\n",
      "\n",
      "See the caveats in the documentation: http://pandas.pydata.org/pandas-docs/stable/indexing.html#indexing-view-versus-copy\n",
      "  if __name__ == '__main__':\n"
     ]
    }
   ],
   "source": [
    "# Making everything lowercase in order to compare\n",
    "spells_df['spell'] = spells_df['spell'].str.lower()"
   ]
  },
  {
   "cell_type": "code",
   "execution_count": 52,
   "metadata": {
    "collapsed": false
   },
   "outputs": [],
   "source": [
    "# And getting only the magic words!\n",
    "results_spells = results[spells_df['spell'].tolist()]"
   ]
  },
  {
   "cell_type": "code",
   "execution_count": 54,
   "metadata": {
    "collapsed": false
   },
   "outputs": [
    {
     "name": "stderr",
     "output_type": "stream",
     "text": [
      "C:\\Anaconda3\\lib\\site-packages\\ipykernel\\__main__.py:1: SettingWithCopyWarning: \n",
      "A value is trying to be set on a copy of a slice from a DataFrame.\n",
      "Try using .loc[row_indexer,col_indexer] = value instead\n",
      "\n",
      "See the caveats in the documentation: http://pandas.pydata.org/pandas-docs/stable/indexing.html#indexing-view-versus-copy\n",
      "  if __name__ == '__main__':\n"
     ]
    }
   ],
   "source": [
    "# What is the total % of magic words\n",
    "results_spells['magic_%'] = results_spells.sum(axis=1)"
   ]
  },
  {
   "cell_type": "code",
   "execution_count": 63,
   "metadata": {
    "collapsed": false
   },
   "outputs": [
    {
     "data": {
      "text/plain": [
       "6    0.000732\n",
       "2    0.000662\n",
       "5    0.000591\n",
       "3    0.000511\n",
       "4    0.000501\n",
       "0    0.000266\n",
       "1    0.000263\n",
       "Name: magic_%, dtype: float64"
      ]
     },
     "execution_count": 63,
     "metadata": {},
     "output_type": "execute_result"
    }
   ],
   "source": [
    "# What is the most spell-intenstive book?\n",
    "results_spells['magic_%'].sort_values(ascending=False)"
   ]
  },
  {
   "cell_type": "code",
   "execution_count": 62,
   "metadata": {
    "collapsed": false
   },
   "outputs": [
    {
     "data": {
      "text/plain": [
       "<matplotlib.axes._subplots.AxesSubplot at 0x18f6952f8d0>"
      ]
     },
     "execution_count": 62,
     "metadata": {},
     "output_type": "execute_result"
    },
    {
     "data": {
      "image/png": "[encoded data removed]",
      "text/plain": [
       "<matplotlib.figure.Figure at 0x18f69538e10>"
      ]
     },
     "metadata": {},
     "output_type": "display_data"
    }
   ],
   "source": [
    "# Let's plot a line chart and see the trend.\n",
    "results_spells['magic_%'].plot()"
   ]
  },
  {
   "cell_type": "markdown",
   "metadata": {},
   "source": [
    "The last book in the series is the most spell-intensive, followed by the third one! Most interestingly, there is a huge increase in the last three installments of the series."
   ]
  },
  {
   "cell_type": "code",
   "execution_count": 65,
   "metadata": {
    "collapsed": false
   },
   "outputs": [
    {
     "data": {
      "text/plain": [
       "<matplotlib.axes._subplots.AxesSubplot at 0x18f6955b358>"
      ]
     },
     "execution_count": 65,
     "metadata": {},
     "output_type": "execute_result"
    },
    {
     "data": {
      "image/png": "[encoded data removed]",
      "text/plain": [
       "<matplotlib.figure.Figure at 0x18f69566a58>"
      ]
     },
     "metadata": {},
     "output_type": "display_data"
    }
   ],
   "source": [
    "# FUN FACT: As Avada Kedavra is the wizarding-world equivalent of a gunshot, we can say that Harry Potter and The Golbet of Fire was the most violent book in the series, proportionally.\n",
    "results_spells['avada'].plot()"
   ]
  },
  {
   "cell_type": "code",
   "execution_count": 66,
   "metadata": {
    "collapsed": false
   },
   "outputs": [
    {
     "data": {
      "text/plain": [
       "<matplotlib.axes._subplots.AxesSubplot at 0x18f695729e8>"
      ]
     },
     "execution_count": 66,
     "metadata": {},
     "output_type": "execute_result"
    },
    {
     "data": {
      "image/png": "[encoded data removed]",
      "text/plain": [
       "<matplotlib.figure.Figure at 0x18f6957b7f0>"
      ]
     },
     "metadata": {},
     "output_type": "display_data"
    }
   ],
   "source": [
    "# And it was also the most SADISTIC one, with abuse of the torture spell.\n",
    "results_spells['crucio'].plot()"
   ]
  },
  {
   "cell_type": "code",
   "execution_count": 67,
   "metadata": {
    "collapsed": false
   },
   "outputs": [
    {
     "data": {
      "text/plain": [
       "<matplotlib.axes._subplots.AxesSubplot at 0x18f6955a860>"
      ]
     },
     "execution_count": 67,
     "metadata": {},
     "output_type": "execute_result"
    },
    {
     "data": {
      "image/png": "[encoded data removed]",
      "text/plain": [
       "<matplotlib.figure.Figure at 0x18f695a9710>"
      ]
     },
     "metadata": {},
     "output_type": "display_data"
    }
   ],
   "source": [
    "# And as the series progressed, people got lazy - 'accio' is a spell that finds and brings things to the hands of the wizard.\n",
    "results_spells['accio'].plot()"
   ]
  },
  {
   "cell_type": "markdown",
   "metadata": {},
   "source": [
    "### 2. What are the most common spells, overall and in each book?"
   ]
  },
  {
   "cell_type": "code",
   "execution_count": null,
   "metadata": {
    "collapsed": true
   },
   "outputs": [],
   "source": [
    "# TO DO"
   ]
  }
 ],
 "metadata": {
  "kernelspec": {
   "display_name": "Python 3",
   "language": "python",
   "name": "python3"
  },
  "language_info": {
   "codemirror_mode": {
    "name": "ipython",
    "version": 3
   },
   "file_extension": ".py",
   "mimetype": "text/x-python",
   "name": "python",
   "nbconvert_exporter": "python",
   "pygments_lexer": "ipython3",
   "version": "3.6.0"
  }
 },
 "nbformat": 4,
 "nbformat_minor": 2
}
