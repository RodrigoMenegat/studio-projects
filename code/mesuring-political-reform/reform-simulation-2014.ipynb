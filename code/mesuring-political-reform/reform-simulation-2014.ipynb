{
 "cells": [
  {
   "cell_type": "markdown",
   "metadata": {},
   "source": [
    "# Reading files, libraries and information in"
   ]
  },
  {
   "cell_type": "code",
   "execution_count": 2,
   "metadata": {
    "collapsed": false
   },
   "outputs": [],
   "source": [
    "import pandas as pd\n",
    "import glob\n",
    "import seaborn as sns\n",
    "import matplotlib\n",
    "from matplotlib import pyplot as plt\n",
    "%matplotlib inline\n",
    "matplotlib.rcParams['svg.fonttype'] = 'none'"
   ]
  },
  {
   "cell_type": "markdown",
   "metadata": {},
   "source": [
    "#### Candidates dataframe\n",
    "This dataframe has individualized demographic information and either if the candidate was elected or not."
   ]
  },
  {
   "cell_type": "code",
   "execution_count": 3,
   "metadata": {
    "collapsed": false
   },
   "outputs": [
    {
     "data": {
      "text/html": [
       "<div>\n",
       "<table border=\"1\" class=\"dataframe\">\n",
       "  <thead>\n",
       "    <tr style=\"text-align: right;\">\n",
       "      <th></th>\n",
       "      <th>SIGLA_UF</th>\n",
       "      <th>SIGLA_UE</th>\n",
       "      <th>CODIGO_CARGO</th>\n",
       "      <th>DESCRICAO_CARGO</th>\n",
       "      <th>SEQUENCIAL_CANDIDATO</th>\n",
       "      <th>NOME_URNA_CANDIDATO</th>\n",
       "      <th>DES_SITUACAO_CANDIDATURA</th>\n",
       "      <th>NUMERO_PARTIDO</th>\n",
       "      <th>SIGLA_PARTIDO</th>\n",
       "      <th>DESCRICAO_OCUPACAO</th>\n",
       "      <th>...</th>\n",
       "      <th>CODIGO_SEXO</th>\n",
       "      <th>DESCRICAO_SEXO</th>\n",
       "      <th>DESCRICAO_GRAU_INSTRUCAO</th>\n",
       "      <th>DESCRICAO_COR_RACA</th>\n",
       "      <th>SIGLA_UF_NASCIMENTO</th>\n",
       "      <th>CODIGO_MUNICIPIO_NASCIMENTO</th>\n",
       "      <th>COD_SIT_TOT_TURNO</th>\n",
       "      <th>DESC_SIT_TOT_TURNO</th>\n",
       "      <th>DESPESA_MAX_CAMPANHA</th>\n",
       "      <th>DATA_NASCIMENTO</th>\n",
       "    </tr>\n",
       "  </thead>\n",
       "  <tbody>\n",
       "    <tr>\n",
       "      <th>0</th>\n",
       "      <td>AC</td>\n",
       "      <td>AC</td>\n",
       "      <td>7</td>\n",
       "      <td>DEPUTADO ESTADUAL</td>\n",
       "      <td>10000000194</td>\n",
       "      <td>CAIO PINHEIRO</td>\n",
       "      <td>DEFERIDO</td>\n",
       "      <td>13</td>\n",
       "      <td>PT</td>\n",
       "      <td>OUTROS</td>\n",
       "      <td>...</td>\n",
       "      <td>2</td>\n",
       "      <td>MASCULINO</td>\n",
       "      <td>ENSINO MÉDIO COMPLETO</td>\n",
       "      <td>PARDA</td>\n",
       "      <td>AC</td>\n",
       "      <td>-3</td>\n",
       "      <td>5</td>\n",
       "      <td>SUPLENTE</td>\n",
       "      <td>690000</td>\n",
       "      <td>15/11/1990</td>\n",
       "    </tr>\n",
       "  </tbody>\n",
       "</table>\n",
       "<p>1 rows × 21 columns</p>\n",
       "</div>"
      ],
      "text/plain": [
       "  SIGLA_UF SIGLA_UE  CODIGO_CARGO    DESCRICAO_CARGO  SEQUENCIAL_CANDIDATO  \\\n",
       "0       AC       AC             7  DEPUTADO ESTADUAL           10000000194   \n",
       "\n",
       "  NOME_URNA_CANDIDATO DES_SITUACAO_CANDIDATURA  NUMERO_PARTIDO SIGLA_PARTIDO  \\\n",
       "0       CAIO PINHEIRO                 DEFERIDO              13            PT   \n",
       "\n",
       "  DESCRICAO_OCUPACAO       ...        CODIGO_SEXO  DESCRICAO_SEXO  \\\n",
       "0             OUTROS       ...                  2       MASCULINO   \n",
       "\n",
       "  DESCRICAO_GRAU_INSTRUCAO DESCRICAO_COR_RACA SIGLA_UF_NASCIMENTO  \\\n",
       "0    ENSINO MÉDIO COMPLETO              PARDA                  AC   \n",
       "\n",
       "  CODIGO_MUNICIPIO_NASCIMENTO  COD_SIT_TOT_TURNO  DESC_SIT_TOT_TURNO  \\\n",
       "0                          -3                  5            SUPLENTE   \n",
       "\n",
       "  DESPESA_MAX_CAMPANHA  DATA_NASCIMENTO  \n",
       "0               690000       15/11/1990  \n",
       "\n",
       "[1 rows x 21 columns]"
      ]
     },
     "execution_count": 3,
     "metadata": {},
     "output_type": "execute_result"
    }
   ],
   "source": [
    "files = glob.glob(r'..\\data\\consulta_cand_2014\\consulta_cand_2014_*.txt')\n",
    "candidates = pd.concat([pd.read_csv(file, encoding='Latin1', sep=';', header=None,error_bad_lines=False,warn_bad_lines=True) for file in files])\n",
    "candidates.columns =[\"DATA_GERACAO\",\"HORA_GERACAO\",\"ANO_ELEICAO\",\"NUM_TURNO\",\"DESCRICAO_ELEICAO\",\"SIGLA_UF\",\"SIGLA_UE\",\"DESCRICAO_UE\",\"CODIGO_CARGO\",\"DESCRICAO_CARGO\",\"NOME_CANDIDATO\",\"SEQUENCIAL_CANDIDATO\",\"NUMERO_CANDIDATO\",\"CPF_CANDIDATO\",\"NOME_URNA_CANDIDATO\",\"COD_SITUACAO_CANDIDATURA\",\"DES_SITUACAO_CANDIDATURA\",\"NUMERO_PARTIDO\",\"SIGLA_PARTIDO\",\"NOME_PARTIDO\",\"CODIGO_LEGENDA\",\"SIGLA_LEGENDA\",\"COMPOSICAO_LEGENDA\",\"NOME_LEGENDA\",\"CODIGO_OCUPACAO\",\"DESCRICAO_OCUPACAO\",\"DATA_NASCIMENTO\",\"NUM_TITULO_ELEITORAL_CANDIDATO\",\"IDADE_DATA_ELEICAO\",\"CODIGO_SEXO\",\"DESCRICAO_SEXO\",\"COD_GRAU_INSTRUCAO\",\"DESCRICAO_GRAU_INSTRUCAO\",\"CODIGO_ESTADO_CIVIL\",\"DESCRICAO_ESTADO_CIVIL\",\"CODIGO_COR_RACA\",\"DESCRICAO_COR_RACA\",\"CODIGO_NACIONALIDADE\",\"DESCRICAO_NACIONALIDADE\",\"SIGLA_UF_NASCIMENTO\",\"CODIGO_MUNICIPIO_NASCIMENTO\",\"NOME_MUNICIPIO_NASCIMENTO\",\"DESPESA_MAX_CAMPANHA\",\"COD_SIT_TOT_TURNO\",\"DESC_SIT_TOT_TURNO\",\"NM_EMAIL\",]\n",
    "candidates = candidates[[\"SIGLA_UF\",\"SIGLA_UE\",\"CODIGO_CARGO\",\"DESCRICAO_CARGO\",\"SEQUENCIAL_CANDIDATO\",\"NOME_URNA_CANDIDATO\",\"DES_SITUACAO_CANDIDATURA\",\"NUMERO_PARTIDO\",\"SIGLA_PARTIDO\",\"DESCRICAO_OCUPACAO\",\"DATA_NASCIMENTO\",\"CODIGO_SEXO\",\"DESCRICAO_SEXO\",\"DESCRICAO_GRAU_INSTRUCAO\",\"DESCRICAO_COR_RACA\",\"SIGLA_UF_NASCIMENTO\",\"CODIGO_MUNICIPIO_NASCIMENTO\",\"COD_SIT_TOT_TURNO\",\"DESC_SIT_TOT_TURNO\",\"DESPESA_MAX_CAMPANHA\",\"DATA_NASCIMENTO\"]]\n",
    "candidates.head(1)"
   ]
  },
  {
   "cell_type": "code",
   "execution_count": 4,
   "metadata": {
    "collapsed": false
   },
   "outputs": [
    {
     "data": {
      "text/plain": [
       "(26241, 21)"
      ]
     },
     "execution_count": 4,
     "metadata": {},
     "output_type": "execute_result"
    }
   ],
   "source": [
    "candidates.shape"
   ]
  },
  {
   "cell_type": "code",
   "execution_count": null,
   "metadata": {
    "collapsed": true
   },
   "outputs": [],
   "source": [
    "nominal_votes.shape"
   ]
  },
  {
   "cell_type": "markdown",
   "metadata": {},
   "source": [
    "#### Nominal votes dataframe\n",
    "This dataframe has all the nominal votes received by each candidate in every electoral zone of the country."
   ]
  },
  {
   "cell_type": "code",
   "execution_count": 5,
   "metadata": {
    "collapsed": false
   },
   "outputs": [
    {
     "data": {
      "text/html": [
       "<div>\n",
       "<table border=\"1\" class=\"dataframe\">\n",
       "  <thead>\n",
       "    <tr style=\"text-align: right;\">\n",
       "      <th></th>\n",
       "      <th>SIGLA_UF</th>\n",
       "      <th>SIGLA_UE</th>\n",
       "      <th>CODIGO_MUNICIPIO</th>\n",
       "      <th>NOME_MUNICIPIO</th>\n",
       "      <th>SQ_CANDIDATO</th>\n",
       "      <th>NOME_URNA_CANDIDATO</th>\n",
       "      <th>DESCRICAO_CARGO</th>\n",
       "      <th>SIGLA_PARTIDO</th>\n",
       "      <th>TOTAL_VOTOS</th>\n",
       "    </tr>\n",
       "  </thead>\n",
       "  <tbody>\n",
       "    <tr>\n",
       "      <th>0</th>\n",
       "      <td>AC</td>\n",
       "      <td>AC</td>\n",
       "      <td>1007</td>\n",
       "      <td>BUJARI</td>\n",
       "      <td>10000000003</td>\n",
       "      <td>MÁRCIO BITTAR</td>\n",
       "      <td>GOVERNADOR</td>\n",
       "      <td>PSDB</td>\n",
       "      <td>1508</td>\n",
       "    </tr>\n",
       "  </tbody>\n",
       "</table>\n",
       "</div>"
      ],
      "text/plain": [
       "  SIGLA_UF SIGLA_UE  CODIGO_MUNICIPIO NOME_MUNICIPIO  SQ_CANDIDATO  \\\n",
       "0       AC       AC              1007         BUJARI   10000000003   \n",
       "\n",
       "  NOME_URNA_CANDIDATO DESCRICAO_CARGO SIGLA_PARTIDO  TOTAL_VOTOS  \n",
       "0       MÁRCIO BITTAR      GOVERNADOR          PSDB         1508  "
      ]
     },
     "execution_count": 5,
     "metadata": {},
     "output_type": "execute_result"
    }
   ],
   "source": [
    "files = glob.glob(r'..\\\\data\\\\votacao_candidato_munzona_2014\\\\votacao_candidato_munzona_2014_*.txt')\n",
    "nominal_votes = pd.concat([pd.read_csv(file, encoding='Latin1', sep=';', header=None,error_bad_lines=False,warn_bad_lines=True) for file in files])\n",
    "nominal_votes.columns=[\"DATA_GERACAO\",\"HORA_GERACAO\",\"ANO_ELEICAO\",\"NUM_TURNO\",\"DESCRICAO_ELEICAO\",\"SIGLA_UF\",\"SIGLA_UE\",\"CODIGO_MUNICIPIO\",\"NOME_MUNICIPIO\",\"NUMERO_ZONA\",\"CODIGO_CARGO\",\"NUMERO_CAND\",\"SQ_CANDIDATO\",\"NOME_CANDIDATO\",\"NOME_URNA_CANDIDATO\",\"DESCRICAO_CARGO\",\"COD_SIT_CAND_SUPERIOR\",\"DESC_SIT_CAND_SUPERIOR\",\"CODIGO_SIT_CANDIDATO\",\"DESC_SIT_CANDIDATO\",\"CODIGO_SIT_CAND_TOT\",\"DESC_SIT_CAND_TOT\",\"NUMERO_PARTIDO\",\"SIGLA_PARTIDO\",\"NOME_PARTIDO\",\"SEQUENCIAL_LEGENDA\",\"NOME_COLIGACAO\",\"COMPOSICAO_LEGENDA\",\"TOTAL_VOTOS\",\"TRANSITO\",]\n",
    "nominal_votes = nominal_votes[[\"SIGLA_UF\",\"SIGLA_UE\",\"CODIGO_MUNICIPIO\",\"NOME_MUNICIPIO\",\"SQ_CANDIDATO\",\"NOME_URNA_CANDIDATO\",\"DESCRICAO_CARGO\",\"SIGLA_PARTIDO\",\"TOTAL_VOTOS\"]]\n",
    "nominal_votes.head(1)"
   ]
  },
  {
   "cell_type": "markdown",
   "metadata": {},
   "source": [
    "#### Votes by party dataframe\n",
    "This dataframe has all the votes received by a party in every electoral zone of the country.\n"
   ]
  },
  {
   "cell_type": "code",
   "execution_count": 4,
   "metadata": {
    "collapsed": false
   },
   "outputs": [
    {
     "data": {
      "text/html": [
       "<div>\n",
       "<table border=\"1\" class=\"dataframe\">\n",
       "  <thead>\n",
       "    <tr style=\"text-align: right;\">\n",
       "      <th></th>\n",
       "      <th>SIGLA_UF</th>\n",
       "      <th>SIGLA_UE</th>\n",
       "      <th>CODIGO_MUNICIPIO</th>\n",
       "      <th>DESCRICAO_CARGO</th>\n",
       "      <th>TIPO_LEGENDA</th>\n",
       "      <th>NOME_COLIGACAO</th>\n",
       "      <th>COMPOSICAO_LEGENDA</th>\n",
       "      <th>SIGLA_PARTIDO</th>\n",
       "      <th>QTDE_VOTOS_NOMINAIS</th>\n",
       "      <th>QTDE_VOTOS_LEGENDA</th>\n",
       "      <th>SEQUENCIAL_COLIGACAO</th>\n",
       "    </tr>\n",
       "  </thead>\n",
       "  <tbody>\n",
       "    <tr>\n",
       "      <th>0</th>\n",
       "      <td>AC</td>\n",
       "      <td>AC</td>\n",
       "      <td>1473</td>\n",
       "      <td>Deputado Estadual</td>\n",
       "      <td>P</td>\n",
       "      <td>PARTIDO ISOLADO</td>\n",
       "      <td>PSOL</td>\n",
       "      <td>PSOL</td>\n",
       "      <td>3.0</td>\n",
       "      <td>9</td>\n",
       "      <td>10000000025</td>\n",
       "    </tr>\n",
       "  </tbody>\n",
       "</table>\n",
       "</div>"
      ],
      "text/plain": [
       "  SIGLA_UF SIGLA_UE  CODIGO_MUNICIPIO    DESCRICAO_CARGO TIPO_LEGENDA  \\\n",
       "0       AC       AC              1473  Deputado Estadual            P   \n",
       "\n",
       "    NOME_COLIGACAO COMPOSICAO_LEGENDA SIGLA_PARTIDO  QTDE_VOTOS_NOMINAIS  \\\n",
       "0  PARTIDO ISOLADO               PSOL          PSOL                  3.0   \n",
       "\n",
       "   QTDE_VOTOS_LEGENDA  SEQUENCIAL_COLIGACAO  \n",
       "0                   9           10000000025  "
      ]
     },
     "execution_count": 4,
     "metadata": {},
     "output_type": "execute_result"
    }
   ],
   "source": [
    "files = glob.glob(r'..\\\\data\\\\votacao_partido_munzona_2014\\\\votacao_partido_munzona_2014_*.txt')\n",
    "party_votes = pd.concat([pd.read_csv(file, encoding='Latin1', sep=';', header=None,error_bad_lines=False,warn_bad_lines=True) for file in files])\n",
    "party_votes.columns=[\"DATA_GERACAO\",\"HORA_GERACAO\",\"ANO_ELEICAO\",\"NUM_TURNO\",\"DESCRICAO_ELEICAO\",\"SIGLA_UF\",\"SIGLA_UE\",\"CODIGO_MUNICIPIO\",\"NOME_MUNICIPIO\",\"NUMERO_ZONA\",\"CODIGO_CARGO\",\"DESCRICAO_CARGO\",\"TIPO_LEGENDA\",\"NOME_COLIGACAO\",\"COMPOSICAO_LEGENDA\",\"SIGLA_PARTIDO\",\"NUMERO_PARTIDO\",\"NOME_PARTIDO\",\"QTDE_VOTOS_NOMINAIS\",\"QTDE_VOTOS_LEGENDA\",\"TRANSITO\",\"SEQUENCIAL_COLIGACAO\",]\n",
    "party_votes = party_votes[[\"SIGLA_UF\",\"SIGLA_UE\",\"CODIGO_MUNICIPIO\",\"DESCRICAO_CARGO\",\"TIPO_LEGENDA\",\"NOME_COLIGACAO\",\"COMPOSICAO_LEGENDA\",\"SIGLA_PARTIDO\",\"QTDE_VOTOS_NOMINAIS\",\"QTDE_VOTOS_LEGENDA\",\"SEQUENCIAL_COLIGACAO\",]]\n",
    "party_votes.head(1)"
   ]
  },
  {
   "cell_type": "markdown",
   "metadata": {},
   "source": [
    "#### Candidate possession dataframe\n",
    "This dataframe summarizes all the possessions each candidate declared to the electoral justice."
   ]
  },
  {
   "cell_type": "code",
   "execution_count": 5,
   "metadata": {
    "collapsed": false
   },
   "outputs": [
    {
     "data": {
      "text/html": [
       "<div>\n",
       "<table border=\"1\" class=\"dataframe\">\n",
       "  <thead>\n",
       "    <tr style=\"text-align: right;\">\n",
       "      <th></th>\n",
       "      <th>SQ_CANDIDATO</th>\n",
       "      <th>CD_TIPO_BEM_CANDIDATO</th>\n",
       "      <th>DS_TIPO_BEM_CANDIDATO</th>\n",
       "      <th>DETALHE_BEM</th>\n",
       "      <th>VALOR_BEM</th>\n",
       "    </tr>\n",
       "  </thead>\n",
       "  <tbody>\n",
       "    <tr>\n",
       "      <th>0</th>\n",
       "      <td>10000000001</td>\n",
       "      <td>32</td>\n",
       "      <td>Quotas ou quinhões de capital</td>\n",
       "      <td>8360 QUOTAS DE CAPITAL SOCIAL DA EMPRESA MARMU...</td>\n",
       "      <td>8360.0</td>\n",
       "    </tr>\n",
       "  </tbody>\n",
       "</table>\n",
       "</div>"
      ],
      "text/plain": [
       "   SQ_CANDIDATO  CD_TIPO_BEM_CANDIDATO          DS_TIPO_BEM_CANDIDATO  \\\n",
       "0   10000000001                     32  Quotas ou quinhões de capital   \n",
       "\n",
       "                                         DETALHE_BEM  VALOR_BEM  \n",
       "0  8360 QUOTAS DE CAPITAL SOCIAL DA EMPRESA MARMU...     8360.0  "
      ]
     },
     "execution_count": 5,
     "metadata": {},
     "output_type": "execute_result"
    }
   ],
   "source": [
    "files = glob.glob(r'..\\\\data\\bem_candidato_2014\\\\bem_candidato_2014_*.txt')\n",
    "possessions = pd.concat([pd.read_csv(file, encoding='Latin1', sep=';', header=None,error_bad_lines=False,warn_bad_lines=True) for file in files])\n",
    "possessions.columns=[\"DATA_GERACAO\",\"HORA_GERACAO\",\"ANO_ELEICAO\",\"DESCRICAO_ELEICAO\",\"SIGLA_UF\",\"SQ_CANDIDATO\",\"CD_TIPO_BEM_CANDIDATO\",\"DS_TIPO_BEM_CANDIDATO\",\"DETALHE_BEM\",\"VALOR_BEM\",\"DATA_ULTIMA_ATUALIZACAO\",\"HORA_ULTIMA_ATUALIZACAO\",]\n",
    "possessions = possessions[[\"SQ_CANDIDATO\",\"CD_TIPO_BEM_CANDIDATO\",\"DS_TIPO_BEM_CANDIDATO\",\"DETALHE_BEM\",\"VALOR_BEM\",]]\n",
    "possessions.head(1)"
   ]
  },
  {
   "cell_type": "markdown",
   "metadata": {},
   "source": [
    "# 1. Current composition of Congress Lower House - Câmara dos Deputados"
   ]
  },
  {
   "cell_type": "code",
   "execution_count": 6,
   "metadata": {
    "collapsed": true
   },
   "outputs": [],
   "source": [
    "camara_hj = candidates[(candidates.DESCRICAO_CARGO=='DEPUTADO FEDERAL') & ((candidates.DESC_SIT_TOT_TURNO=='ELEITO POR QP')|(candidates.DESC_SIT_TOT_TURNO=='ELEITO POR MÉDIA'))]"
   ]
  },
  {
   "cell_type": "markdown",
   "metadata": {},
   "source": [
    "# 2. Simulating the 'distritão' in the national Congress\n",
    "The 'distritão' is simple to understand: whoever gets the most nominal votes in a state gets elected. The distribution of the vote among parties doesn't matter much.\n",
    "\n",
    "To calculate the results, I'll have to cross the table with candidate information and the table with all the votes. Then, I'll pick the top voted candidates of each state, according to the number of chairs each disrict has."
   ]
  },
  {
   "cell_type": "markdown",
   "metadata": {},
   "source": [
    "#### a) Getting the total of votes for each candidate"
   ]
  },
  {
   "cell_type": "code",
   "execution_count": 7,
   "metadata": {
    "collapsed": false
   },
   "outputs": [],
   "source": [
    "# Merging the candidates datagrame with the sum of all votes by each candidate\n",
    "candidates = candidates.merge((nominal_votes.groupby(['SQ_CANDIDATO'])['TOTAL_VOTOS'].sum().to_frame().reset_index()),how='left',left_on='SEQUENCIAL_CANDIDATO',right_on='SQ_CANDIDATO')"
   ]
  },
  {
   "cell_type": "code",
   "execution_count": 8,
   "metadata": {
    "collapsed": true
   },
   "outputs": [],
   "source": [
    "# Keeping only candidates to the Câmara dos Deputados\n",
    "candidates_federal = candidates[candidates.DESCRICAO_CARGO=='DEPUTADO FEDERAL']"
   ]
  },
  {
   "cell_type": "markdown",
   "metadata": {},
   "source": [
    "#### b) Getting the composition of the Congress according to the absolute number of votes received and the ammount of chairs per state"
   ]
  },
  {
   "cell_type": "code",
   "execution_count": 9,
   "metadata": {
    "collapsed": true
   },
   "outputs": [],
   "source": [
    "states = ['AC','AL','AP','AM','BA','CE','DF','ES','GO','MA','MT','MS','MG','PR','PB','PA','PE','PI','RJ','RN','RS','RO','RR','SC','SE','SP','TO',]"
   ]
  },
  {
   "cell_type": "code",
   "execution_count": 10,
   "metadata": {
    "collapsed": false
   },
   "outputs": [],
   "source": [
    "bancadas = {} # Dictionary where I will save each states representatives\n",
    "for state in states:\n",
    "    count = camara_hj[camara_hj.SIGLA_UE==state]['SEQUENCIAL_CANDIDATO'].count() # Number of chairs each state had in 2014\n",
    "    df = candidates_federal[candidates_federal.SIGLA_UE==state].sort_values(by='TOTAL_VOTOS',ascending=False).head(count) # Get the most voted candidates for each state\n",
    "    bancadas[state] = df"
   ]
  },
  {
   "cell_type": "code",
   "execution_count": 11,
   "metadata": {
    "collapsed": false
   },
   "outputs": [],
   "source": [
    "# Concatenating all the dataframes\n",
    "camara_distritao = pd.concat([bancadas[state] for state in states]) "
   ]
  },
  {
   "cell_type": "code",
   "execution_count": 12,
   "metadata": {
    "collapsed": false
   },
   "outputs": [
    {
     "data": {
      "text/plain": [
       "True     468\n",
       "False     45\n",
       "Name: SEQUENCIAL_CANDIDATO, dtype: int64"
      ]
     },
     "execution_count": 12,
     "metadata": {},
     "output_type": "execute_result"
    }
   ],
   "source": [
    "# How many of the candidates in the distritão datafram\n",
    "camara_distritao.SEQUENCIAL_CANDIDATO.isin(camara_hj.SEQUENCIAL_CANDIDATO).value_counts()"
   ]
  },
  {
   "cell_type": "markdown",
   "metadata": {},
   "source": [
    "# 3. Simulating the \"distritão\" in each state's Congress\n",
    "The rules are similar to the national Congress, but the number of representatives in each state is different."
   ]
  },
  {
   "cell_type": "markdown",
   "metadata": {},
   "source": [
    "### a) Getting the current composition of each state"
   ]
  },
  {
   "cell_type": "code",
   "execution_count": 13,
   "metadata": {
    "collapsed": false,
    "scrolled": true
   },
   "outputs": [],
   "source": [
    "# Keeping only candidates to the Assembléia Legislativa - state level Congress\n",
    "candidates_assembleia = candidates[(candidates.DESCRICAO_CARGO=='DEPUTADO ESTADUAL')|(candidates.DESCRICAO_CARGO=='DEPUTADO DISTRITAL')]"
   ]
  },
  {
   "cell_type": "code",
   "execution_count": 14,
   "metadata": {
    "collapsed": false
   },
   "outputs": [
    {
     "name": "stderr",
     "output_type": "stream",
     "text": [
      "C:\\Anaconda3\\lib\\site-packages\\ipykernel\\__main__.py:4: UserWarning: Boolean Series key will be reindexed to match DataFrame index.\n"
     ]
    }
   ],
   "source": [
    "# Getting the composition of each state and storing the dataframe in a dictionary\n",
    "assembleias_hj = {}\n",
    "for state in states:\n",
    "    df = candidates_assembleia[(candidates_assembleia.SIGLA_UE==state)&((candidates.DESC_SIT_TOT_TURNO=='ELEITO POR QP')|(candidates.DESC_SIT_TOT_TURNO=='ELEITO POR MÉDIA'))]\n",
    "    assembleias_hj[state] = df"
   ]
  },
  {
   "cell_type": "markdown",
   "metadata": {},
   "source": [
    "### b) Getting the composition of each state if distritão was applied"
   ]
  },
  {
   "cell_type": "code",
   "execution_count": 15,
   "metadata": {
    "collapsed": false
   },
   "outputs": [
    {
     "name": "stderr",
     "output_type": "stream",
     "text": [
      "C:\\Anaconda3\\lib\\site-packages\\ipykernel\\__main__.py:4: UserWarning: Boolean Series key will be reindexed to match DataFrame index.\n"
     ]
    }
   ],
   "source": [
    "# Getting the number of representatives for each state\n",
    "assembleias_distritao = {}\n",
    "for state in states:\n",
    "    count = candidates_assembleia[(candidates_assembleia.SIGLA_UE==state)&((candidates.DESC_SIT_TOT_TURNO=='ELEITO POR QP')|(candidates.DESC_SIT_TOT_TURNO=='ELEITO POR MÉDIA'))]['SEQUENCIAL_CANDIDATO'].count()\n",
    "    df = candidates_assembleia[candidates_assembleia.SIGLA_UE==state].sort_values(by='TOTAL_VOTOS',ascending=False).head(count)\n",
    "    assembleias_distritao[state] = df"
   ]
  },
  {
   "cell_type": "markdown",
   "metadata": {},
   "source": [
    "### c) Uniting all of the state-wide changes in one dataframe"
   ]
  },
  {
   "cell_type": "code",
   "execution_count": 16,
   "metadata": {
    "collapsed": true
   },
   "outputs": [],
   "source": [
    "all_assembleias = []\n",
    "for state in states:\n",
    "    df = assembleias_distritao[state]['SEQUENCIAL_CANDIDATO'].isin(assembleias_hj[state]['SEQUENCIAL_CANDIDATO']).value_counts(normalize=False).to_frame()\n",
    "    df.columns = [state]\n",
    "    df = df.transpose()\n",
    "    df.columns = ['would_stay','would_change']\n",
    "    df['total_representatives'] = df['would_stay'] + df['would_change']\n",
    "    df['would_stay_%'] = df['would_stay']/df['total_representatives']\n",
    "    df['would_change_%'] = (df['would_change']/df['total_representatives'])*100\n",
    "    df = df.reset_index()\n",
    "    df = df.rename(columns={'index':'state'})\n",
    "    all_assembleias.append(df)"
   ]
  },
  {
   "cell_type": "code",
   "execution_count": 17,
   "metadata": {
    "collapsed": false
   },
   "outputs": [],
   "source": [
    "change_states = pd.concat(all_assembleias,ignore_index=True)"
   ]
  },
  {
   "cell_type": "markdown",
   "metadata": {},
   "source": [
    "# 4. Plotting it\n",
    "The story is: the changes will affect state legislatures way more than the National Congress. In the most dramatic case, 25% of the seats would change, in Acre. I wanna plot the percentual change for each state and, in the same chart, have a line that shows the change in the National Congress."
   ]
  },
  {
   "cell_type": "code",
   "execution_count": 18,
   "metadata": {
    "collapsed": false
   },
   "outputs": [
    {
     "data": {
      "image/png": "[encoded data removed]",
      "text/plain": [
       "<matplotlib.figure.Figure at 0x19b80a34080>"
      ]
     },
     "metadata": {},
     "output_type": "display_data"
    }
   ],
   "source": [
    "sns.set_style(\"whitegrid\")\n",
    "fig, ax = plt.subplots(figsize=(11,16))\n",
    "sns.stripplot(data=change_states.sort_values(by='would_change_%',ascending=False),\n",
    "                   y='state',\n",
    "                   x='would_change_%',\n",
    "                   color='red',\n",
    "                   size=14,)\n",
    "\n",
    "# Plotting a line with the simulated changes in National Congress\n",
    "x1 = 8.7719 # Percentage of change in National Congress\n",
    "y1 = 26 # Ending position, in the top of the chart - arbitrary, since Y values are categorical, not numerical\n",
    "x2 = 8.7719\n",
    "y2 = 0 # Starting position, in the bottom of the chart - arbitrary, since Y values are categorical, not numerical\n",
    "plt.plot([x1,x2],[y1,y2],color='black',linestyle=':') # Plotting the line I've just set\n",
    "\n",
    "\n",
    "# Setting a custom font for the labels\n",
    "custom_font = {'fontname':'Gill Sans MT','size':'20'}\n",
    "\n",
    "ax.tick_params(labelsize=15)\n",
    "ax.set_xlim(0)\n",
    "ax.set_ylabel('',**custom_font)\n",
    "ax.set_xlabel('Percentage of representatives that would change if reform was in place on the 2014 Election',**custom_font)\n",
    "ax.yaxis.grid(True)\n",
    "ax.xaxis.grid(False)\n",
    "sns.despine(left=True,bottom=True)\n",
    "\n",
    "plt.savefig(r'..\\visuals\\states_change.svg',transparent=True)"
   ]
  },
  {
   "cell_type": "code",
   "execution_count": null,
   "metadata": {
    "collapsed": false
   },
   "outputs": [],
   "source": [
    "for state in states:\n",
    "    print(state)\n",
    "    print('Hoje:')\n",
    "    print(assembleias_hj[state]['SIGLA_PARTIDO'].value_counts().count())\n",
    "    print('Projeção:')\n",
    "    print(assembleias_distritao[state]['SIGLA_PARTIDO'].value_counts().count())\n",
    "    print()"
   ]
  },
  {
   "cell_type": "code",
   "execution_count": 26,
   "metadata": {
    "collapsed": false
   },
   "outputs": [],
   "source": [
    "change_states.columns = ['estado','deputados_ficariam','deputados_mudariam','total_deputados','deputados_ficariam_%','deputados_mudariam_%']"
   ]
  },
  {
   "cell_type": "code",
   "execution_count": 28,
   "metadata": {
    "collapsed": false
   },
   "outputs": [],
   "source": [
    "change_states = change_states[['estado','deputados_mudariam_%']]"
   ]
  },
  {
   "cell_type": "code",
   "execution_count": 31,
   "metadata": {
    "collapsed": false
   },
   "outputs": [],
   "source": [
    "change_states.to_csv('mudancas-assembleias-legislativas.csv',index=False)"
   ]
  },
  {
   "cell_type": "code",
   "execution_count": 22,
   "metadata": {
    "collapsed": false
   },
   "outputs": [
    {
     "data": {
      "text/plain": [
       "PMDB    10\n",
       "PSDB     8\n",
       "PSC      6\n",
       "PDT      5\n",
       "DEM      4\n",
       "PT       4\n",
       "PSD      4\n",
       "PSB      3\n",
       "PPS      3\n",
       "PP       2\n",
       "PSL      2\n",
       "PMN      1\n",
       "SD       1\n",
       "PRB      1\n",
       "Name: SIGLA_PARTIDO, dtype: int64"
      ]
     },
     "execution_count": 22,
     "metadata": {},
     "output_type": "execute_result"
    }
   ],
   "source": [
    "assembleias_distritao['PR']['SIGLA_PARTIDO'].value_counts()"
   ]
  },
  {
   "cell_type": "code",
   "execution_count": 23,
   "metadata": {
    "collapsed": false
   },
   "outputs": [
    {
     "data": {
      "text/plain": [
       "PSC     12\n",
       "PMDB     8\n",
       "PSDB     7\n",
       "PDT      4\n",
       "DEM      4\n",
       "PT       3\n",
       "PSD      3\n",
       "PP       2\n",
       "PSB      2\n",
       "PPS      2\n",
       "PSL      1\n",
       "PTB      1\n",
       "PPL      1\n",
       "PV       1\n",
       "PMN      1\n",
       "SD       1\n",
       "PRB      1\n",
       "Name: SIGLA_PARTIDO, dtype: int64"
      ]
     },
     "execution_count": 23,
     "metadata": {},
     "output_type": "execute_result"
    }
   ],
   "source": [
    "assembleias_hj['PR']['SIGLA_PARTIDO'].value_counts()"
   ]
  },
  {
   "cell_type": "code",
   "execution_count": null,
   "metadata": {
    "collapsed": true
   },
   "outputs": [],
   "source": []
  }
 ],
 "metadata": {
  "kernelspec": {
   "display_name": "Python 3",
   "language": "python",
   "name": "python3"
  },
  "language_info": {
   "codemirror_mode": {
    "name": "ipython",
    "version": 3
   },
   "file_extension": ".py",
   "mimetype": "text/x-python",
   "name": "python",
   "nbconvert_exporter": "python",
   "pygments_lexer": "ipython3",
   "version": "3.6.0"
  }
 },
 "nbformat": 4,
 "nbformat_minor": 2
}
