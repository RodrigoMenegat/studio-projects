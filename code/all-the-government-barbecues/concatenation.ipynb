{
 "cells": [
  {
   "cell_type": "markdown",
   "metadata": {},
   "source": [
    "# Concatenating the .csv files\n",
    "There is a .csv file for every month since january, 2010. In this notebook, I've concatenated all of them into a single file."
   ]
  },
  {
   "cell_type": "code",
   "execution_count": 1,
   "metadata": {
    "collapsed": true
   },
   "outputs": [],
   "source": [
    "import pandas as pd\n",
    "import glob"
   ]
  },
  {
   "cell_type": "code",
   "execution_count": 2,
   "metadata": {
    "collapsed": false
   },
   "outputs": [],
   "source": [
    "# Glob get's a list of all the .csv files in the directory.\n",
    "files = glob.glob(r'C:\\Users\\Avell\\Desktop\\the-lede-program\\data-studio\\government-credit-cards\\files\\*.csv')"
   ]
  },
  {
   "cell_type": "markdown",
   "metadata": {},
   "source": [
    "I'll build a loop to read and append all the files into a single dataframe, excluding their headers.\n"
   ]
  },
  {
   "cell_type": "markdown",
   "metadata": {},
   "source": [
    "**NOTE:** There was a single bad row, originally: row 27388 of file '201010_CPGF.csv'.\n",
    "After checking it on Sublime, I discovered an extra tab separator in the last field and manually deleted it."
   ]
  },
  {
   "cell_type": "code",
   "execution_count": 3,
   "metadata": {
    "collapsed": false
   },
   "outputs": [],
   "source": [
    "# Dataframe made out of the first file\n",
    "df = pd.read_csv(r'.\\files\\201001_CPGF.csv', encoding='Latin5',sep='\\t')"
   ]
  },
  {
   "cell_type": "code",
   "execution_count": 4,
   "metadata": {
    "collapsed": false
   },
   "outputs": [],
   "source": [
    "# Concatenating loop\n",
    "df = pd.concat([pd.read_csv(file, encoding='Latin5', sep='\\t', header=None, skiprows=1,error_bad_lines=False,warn_bad_lines=True) for file in files])"
   ]
  },
  {
   "cell_type": "code",
   "execution_count": 5,
   "metadata": {
    "collapsed": true
   },
   "outputs": [],
   "source": [
    "#Since I skipped the headers, I'll add them manually:\n",
    "df.columns = ['Código Órgão Superior','Nome Órgão Superior','Código Órgão Subordinado','Nome Órgão Subordinado','Código Unidade Gestora','Nome Unidade Gestora','Ano Extrato','Mês Extrato','CPF Portador','Nome Portador','Transação','Data Transação','CNPJ ou CPF Favorecido','Nome Favorecido','Valor Transação']"
   ]
  },
  {
   "cell_type": "markdown",
   "metadata": {},
   "source": [
    "Finally, I saved the dataframe into a new single CSV file."
   ]
  },
  {
   "cell_type": "code",
   "execution_count": 6,
   "metadata": {
    "collapsed": false
   },
   "outputs": [],
   "source": [
    "df.to_csv('CPGF_2010_to_2017_july.csv',index=False)"
   ]
  }
 ],
 "metadata": {
  "kernelspec": {
   "display_name": "Python 3",
   "language": "python",
   "name": "python3"
  },
  "language_info": {
   "codemirror_mode": {
    "name": "ipython",
    "version": 3
   },
   "file_extension": ".py",
   "mimetype": "text/x-python",
   "name": "python",
   "nbconvert_exporter": "python",
   "pygments_lexer": "ipython3",
   "version": "3.6.0"
  }
 },
 "nbformat": 4,
 "nbformat_minor": 2
}
